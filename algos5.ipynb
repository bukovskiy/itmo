{
 "cells": [
  {
   "cell_type": "code",
   "execution_count": 163,
   "metadata": {},
   "outputs": [],
   "source": [
    "import numpy as np\n",
    "import random\n",
    "from collections import defaultdict\n",
    "import networkx as nx\n"
   ]
  },
  {
   "cell_type": "code",
   "execution_count": 164,
   "metadata": {},
   "outputs": [],
   "source": [
    "def random_adjacency_matrix(n,e):   \n",
    "    A = np.zeros((n,n))\n",
    "    for i in range(e):\n",
    "        ed = edge = 0\n",
    "        while ed == edge:\n",
    "            ed = np.random.randint(0, high=n-1)\n",
    "            edge = np.random.randint(0, high=n-1)\n",
    "        A[ed,edge] = 1\n",
    "        A[edge,ed] = 1\n",
    "    return A"
   ]
  },
  {
   "cell_type": "code",
   "execution_count": 165,
   "metadata": {},
   "outputs": [],
   "source": [
    "def convert(a): \n",
    "    adjList = defaultdict(list) \n",
    "    for i in range(len(a)): \n",
    "        adjList[i] = []\n",
    "        for j in range(len(a[i])): \n",
    "                       if a[i][j]== 1: \n",
    "                           adjList[i].append(j) \n",
    "    return adjList "
   ]
  },
  {
   "cell_type": "code",
   "execution_count": 166,
   "metadata": {},
   "outputs": [],
   "source": [
    "def breadth_first(graph,start,end):\n",
    "    visited = set()\n",
    "    to_visit = [start]\n",
    "    previous = defaultdict(int)\n",
    "    previous[start]='start'\n",
    "    while to_visit:\n",
    "        current = to_visit.pop(0)\n",
    "        for node in graph[current]:\n",
    "            if node not in visited:\n",
    "                to_visit.append(node)\n",
    "                previous[node]=current\n",
    "                visited.add(current)\n",
    "                if node == end:\n",
    "                    path = []\n",
    "                    to_trace_back = node\n",
    "                    while previous.get(to_trace_back) != 'start':\n",
    "                        path.append(previous[to_trace_back])\n",
    "                        to_trace_back = previous[to_trace_back]\n",
    "                        path.reverse()\n",
    "                    print (\"Path found: \", *path,end)\n",
    "                    visited.add(node)\n",
    "    #print(\"Found connected component of length \",len(visited), \": \",visited)            "
   ]
  },
  {
   "cell_type": "code",
   "execution_count": 167,
   "metadata": {},
   "outputs": [],
   "source": [
    "def depth_first(graph):\n",
    "    nodes_to_visit = set(range(100))\n",
    "    components = defaultdict(set)\n",
    "    counter = 0\n",
    "    while nodes_to_visit:\n",
    "        visited = set()\n",
    "        start = random.choice(tuple(nodes_to_visit))\n",
    "        visit_next = [start]\n",
    "        while visit_next:\n",
    "            current = visit_next.pop()\n",
    "            nodes_to_visit.discard(current)\n",
    "            components[counter].add(current)\n",
    "            for node in graph[current]:\n",
    "                if node not in visited:\n",
    "                    visit_next.append(node)\n",
    "                    visited.add(node)\n",
    "        counter +=1\n",
    "    print(\"Found \",counter, \" connected components\")\n",
    "    for key, value in components.items():\n",
    "        print(key, value)"
   ]
  },
  {
   "cell_type": "code",
   "execution_count": 202,
   "metadata": {},
   "outputs": [],
   "source": [
    "graph = random_adjacency_matrix(100,200)"
   ]
  },
  {
   "cell_type": "code",
   "execution_count": 203,
   "metadata": {},
   "outputs": [
    {
     "data": {
      "text/plain": [
       "array([[0., 0., 0., ..., 0., 0., 0.],\n",
       "       [0., 0., 0., ..., 0., 0., 0.],\n",
       "       [0., 0., 0., ..., 0., 1., 0.],\n",
       "       ...,\n",
       "       [0., 0., 0., ..., 0., 0., 0.],\n",
       "       [0., 0., 1., ..., 0., 0., 0.],\n",
       "       [0., 0., 0., ..., 0., 0., 0.]])"
      ]
     },
     "execution_count": 203,
     "metadata": {},
     "output_type": "execute_result"
    }
   ],
   "source": [
    "graph"
   ]
  },
  {
   "cell_type": "code",
   "execution_count": 204,
   "metadata": {},
   "outputs": [
    {
     "data": {
      "text/plain": [
       "[array([0., 0., 0., 0., 0., 0., 0., 0., 0., 0., 0., 0., 0., 0., 0., 0., 0.,\n",
       "        0., 0., 0., 0., 0., 0., 0., 0., 0., 0., 0., 0., 1., 0., 0., 0., 0.,\n",
       "        0., 0., 0., 0., 0., 0., 0., 0., 0., 0., 0., 0., 0., 0., 0., 0., 0.,\n",
       "        0., 0., 0., 0., 0., 0., 0., 0., 1., 0., 0., 0., 0., 0., 0., 0., 0.,\n",
       "        0., 0., 0., 0., 0., 1., 0., 0., 0., 0., 0., 0., 0., 1., 0., 0., 0.,\n",
       "        0., 0., 0., 0., 0., 0., 0., 0., 0., 0., 0., 0., 0., 0., 0.]),\n",
       " array([0., 0., 0., 0., 0., 0., 0., 0., 0., 0., 0., 0., 0., 0., 0., 0., 0.,\n",
       "        0., 0., 0., 0., 0., 0., 0., 0., 0., 0., 0., 0., 0., 0., 0., 1., 0.,\n",
       "        0., 0., 0., 0., 0., 0., 0., 0., 0., 0., 0., 0., 0., 0., 0., 0., 0.,\n",
       "        0., 0., 0., 0., 0., 0., 0., 0., 0., 0., 0., 0., 0., 0., 0., 0., 0.,\n",
       "        0., 0., 0., 0., 0., 0., 0., 0., 0., 0., 0., 0., 0., 0., 0., 0., 0.,\n",
       "        0., 0., 0., 0., 0., 0., 0., 0., 0., 0., 0., 0., 0., 0., 0.]),\n",
       " array([0., 0., 0., 0., 0., 0., 0., 0., 0., 0., 0., 0., 0., 0., 0., 0., 0.,\n",
       "        0., 0., 0., 0., 0., 0., 0., 0., 0., 0., 0., 0., 0., 0., 0., 0., 0.,\n",
       "        0., 0., 0., 0., 0., 0., 0., 0., 0., 0., 0., 0., 0., 0., 0., 0., 0.,\n",
       "        0., 0., 0., 1., 1., 0., 0., 0., 0., 0., 0., 0., 0., 0., 0., 1., 0.,\n",
       "        0., 0., 0., 0., 0., 0., 0., 0., 0., 0., 0., 0., 0., 1., 0., 0., 0.,\n",
       "        0., 0., 0., 0., 0., 0., 0., 0., 0., 0., 0., 0., 0., 1., 0.])]"
      ]
     },
     "execution_count": 204,
     "metadata": {},
     "output_type": "execute_result"
    }
   ],
   "source": [
    "list(graph[:3])"
   ]
  },
  {
   "cell_type": "code",
   "execution_count": 205,
   "metadata": {},
   "outputs": [
    {
     "data": {
      "text/plain": [
       "(100, 100)"
      ]
     },
     "execution_count": 205,
     "metadata": {},
     "output_type": "execute_result"
    }
   ],
   "source": [
    "graph.shape"
   ]
  },
  {
   "cell_type": "code",
   "execution_count": 206,
   "metadata": {},
   "outputs": [],
   "source": [
    "graph_list = convert(graph)\n"
   ]
  },
  {
   "cell_type": "code",
   "execution_count": 207,
   "metadata": {},
   "outputs": [
    {
     "data": {
      "text/plain": [
       "defaultdict(list,\n",
       "            {0: [29, 59, 73, 81],\n",
       "             1: [32],\n",
       "             2: [54, 55, 66, 81, 98],\n",
       "             3: [33, 48, 57, 62, 67, 98],\n",
       "             4: [78, 82, 97],\n",
       "             5: [23, 68],\n",
       "             6: [26, 37, 54, 65, 81, 96],\n",
       "             7: [70],\n",
       "             8: [85],\n",
       "             9: [51, 64, 75],\n",
       "             10: [22],\n",
       "             11: [22, 30, 37, 96],\n",
       "             12: [30, 36, 38, 46, 50, 66],\n",
       "             13: [45, 59],\n",
       "             14: [46, 91],\n",
       "             15: [36],\n",
       "             16: [53, 56, 67, 95],\n",
       "             17: [24, 25, 65, 72, 74],\n",
       "             18: [38, 47, 57, 70],\n",
       "             19: [21, 51, 60, 69, 70, 92],\n",
       "             20: [64, 67, 74, 81],\n",
       "             21: [19, 45, 72],\n",
       "             22: [10, 11, 53, 58, 85],\n",
       "             23: [5, 57, 59],\n",
       "             24: [17, 50, 52, 85],\n",
       "             25: [17, 28, 30, 58, 98],\n",
       "             26: [6, 32, 63, 76],\n",
       "             27: [36, 41, 56, 73],\n",
       "             28: [25, 29, 39, 40, 64, 78, 89, 98],\n",
       "             29: [0, 28, 60, 68, 75],\n",
       "             30: [11, 12, 25, 49, 60],\n",
       "             31: [],\n",
       "             32: [1, 26, 43, 78, 90],\n",
       "             33: [3, 40, 51, 97],\n",
       "             34: [44],\n",
       "             35: [49],\n",
       "             36: [12, 15, 27, 48, 62, 88],\n",
       "             37: [6, 11, 40, 63],\n",
       "             38: [12, 18, 57, 59, 62],\n",
       "             39: [28, 45],\n",
       "             40: [28, 33, 37, 49, 64],\n",
       "             41: [27, 43],\n",
       "             42: [92],\n",
       "             43: [32, 41, 61, 67, 90, 97],\n",
       "             44: [34, 54, 56],\n",
       "             45: [13, 21, 39, 58, 63],\n",
       "             46: [12, 14, 51, 62, 83],\n",
       "             47: [18, 56, 57],\n",
       "             48: [3, 36],\n",
       "             49: [30, 35, 40, 53],\n",
       "             50: [12, 24, 61, 81],\n",
       "             51: [9, 19, 33, 46, 81],\n",
       "             52: [24, 81, 95],\n",
       "             53: [16, 22, 49, 58],\n",
       "             54: [2, 6, 44, 58, 60, 85],\n",
       "             55: [2, 96],\n",
       "             56: [16, 27, 44, 47, 74, 75, 84, 86],\n",
       "             57: [3, 18, 23, 38, 47, 81, 82, 91],\n",
       "             58: [22, 25, 45, 53, 54, 72, 81, 92],\n",
       "             59: [0, 13, 23, 38, 65],\n",
       "             60: [19, 29, 30, 54],\n",
       "             61: [43, 50, 68, 80],\n",
       "             62: [3, 36, 38, 46, 70, 82],\n",
       "             63: [26, 37, 45, 67, 70],\n",
       "             64: [9, 20, 28, 40, 66, 86],\n",
       "             65: [6, 17, 59],\n",
       "             66: [2, 12, 64, 75],\n",
       "             67: [3, 16, 20, 43, 63, 80],\n",
       "             68: [5, 29, 61, 84, 88],\n",
       "             69: [19, 76],\n",
       "             70: [7, 18, 19, 62, 63],\n",
       "             71: [96],\n",
       "             72: [17, 21, 58, 81],\n",
       "             73: [0, 27, 77, 90],\n",
       "             74: [17, 20, 56, 81],\n",
       "             75: [9, 29, 56, 66, 88],\n",
       "             76: [26, 69, 96],\n",
       "             77: [73, 97],\n",
       "             78: [4, 28, 32, 80, 81],\n",
       "             79: [81, 89],\n",
       "             80: [61, 67, 78, 97],\n",
       "             81: [0, 2, 6, 20, 50, 51, 52, 57, 58, 72, 74, 78, 79, 89],\n",
       "             82: [4, 57, 62],\n",
       "             83: [46, 87, 95],\n",
       "             84: [56, 68],\n",
       "             85: [8, 22, 24, 54, 94],\n",
       "             86: [56, 64],\n",
       "             87: [83],\n",
       "             88: [36, 68, 75],\n",
       "             89: [28, 79, 81],\n",
       "             90: [32, 43, 73, 94, 98],\n",
       "             91: [14, 57],\n",
       "             92: [19, 42, 58],\n",
       "             93: [],\n",
       "             94: [85, 90, 97],\n",
       "             95: [16, 52, 83, 97],\n",
       "             96: [6, 11, 55, 71, 76, 97],\n",
       "             97: [4, 33, 43, 77, 80, 94, 95, 96],\n",
       "             98: [2, 3, 25, 28, 90],\n",
       "             99: []})"
      ]
     },
     "execution_count": 207,
     "metadata": {},
     "output_type": "execute_result"
    }
   ],
   "source": [
    "graph_list"
   ]
  },
  {
   "cell_type": "code",
   "execution_count": 208,
   "metadata": {},
   "outputs": [
    {
     "data": {
      "image/png": "[encoded data removed]",
      "text/plain": [
       "<Figure size 432x288 with 1 Axes>"
      ]
     },
     "metadata": {},
     "output_type": "display_data"
    }
   ],
   "source": [
    "G=nx.from_numpy_matrix(graph)\n",
    "nx.draw(G, with_labels=True,node_size=40,alpha=0.8)"
   ]
  },
  {
   "cell_type": "code",
   "execution_count": 209,
   "metadata": {},
   "outputs": [
    {
     "name": "stdout",
     "output_type": "stream",
     "text": [
      "Path found:  45 19 70 21 18\n"
     ]
    }
   ],
   "source": [
    "breadth_first(graph_list,np.random.randint(1,high=100),np.random.randint(1,high=100))"
   ]
  },
  {
   "cell_type": "code",
   "execution_count": 210,
   "metadata": {},
   "outputs": [
    {
     "name": "stdout",
     "output_type": "stream",
     "text": [
      "Found  4  connected components\n",
      "0 {0, 1, 2, 3, 4, 5, 6, 7, 8, 9, 10, 11, 12, 13, 14, 15, 16, 17, 18, 19, 20, 21, 22, 23, 24, 25, 26, 27, 28, 29, 30, 32, 33, 34, 35, 36, 37, 38, 39, 40, 41, 42, 43, 44, 45, 46, 47, 48, 49, 50, 51, 52, 53, 54, 55, 56, 57, 58, 59, 60, 61, 62, 63, 64, 65, 66, 67, 68, 69, 70, 71, 72, 73, 74, 75, 76, 77, 78, 79, 80, 81, 82, 83, 84, 85, 86, 87, 88, 89, 90, 91, 92, 94, 95, 96, 97, 98}\n",
      "1 {99}\n",
      "2 {31}\n",
      "3 {93}\n"
     ]
    }
   ],
   "source": [
    "depth_first(graph_list)"
   ]
  },
  {
   "cell_type": "code",
   "execution_count": null,
   "metadata": {},
   "outputs": [],
   "source": []
  },
  {
   "cell_type": "code",
   "execution_count": null,
   "metadata": {},
   "outputs": [],
   "source": []
  },
  {
   "cell_type": "code",
   "execution_count": null,
   "metadata": {},
   "outputs": [],
   "source": []
  }
 ],
 "metadata": {
  "kernelspec": {
   "display_name": "Python 3",
   "language": "python",
   "name": "python3"
  },
  "language_info": {
   "codemirror_mode": {
    "name": "ipython",
    "version": 3
   },
   "file_extension": ".py",
   "mimetype": "text/x-python",
   "name": "python",
   "nbconvert_exporter": "python",
   "pygments_lexer": "ipython3",
   "version": "3.7.6"
  }
 },
 "nbformat": 4,
 "nbformat_minor": 4
}
