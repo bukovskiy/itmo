{
 "cells": [
  {
   "cell_type": "code",
   "execution_count": 230,
   "metadata": {},
   "outputs": [],
   "source": [
    "import numpy as np\n",
    "import time\n",
    "from matplotlib import pyplot as plt\n",
    "from tqdm import tqdm\n",
    "from scipy.optimize import curve_fit\n",
    "\n",
    "\n",
    "\n",
    "\n",
    "%matplotlib inline\n"
   ]
  },
  {
   "cell_type": "markdown",
   "metadata": {},
   "source": [
    "<h1> Part 1. Primm Algorithm for finding Minimum Spanning tree</h1>"
   ]
  },
  {
   "cell_type": "code",
   "execution_count": 172,
   "metadata": {},
   "outputs": [],
   "source": [
    "#define graph generators\n",
    "\n",
    "def random_adjacency_matrix(n,e):   \n",
    "    A = np.zeros((n,n))\n",
    "    counter = 1\n",
    "    for i in range(e):\n",
    "        ed = edge = 0\n",
    "        while ed == edge or A[ed,edge] != 0:\n",
    "            ed = np.random.randint(0, high=n)\n",
    "            edge = np.random.randint(0, high=n)\n",
    "        weight = np.random.randint(1,high=10)\n",
    "        counter +=1\n",
    "        A[ed,edge] = weight\n",
    "        A[edge,ed] = weight\n",
    "    return A\n",
    "\n",
    "def convert_w(A): \n",
    "    adjList = {} \n",
    "    for i in range(len(A)): \n",
    "        adjList[i] = {}\n",
    "        for j in range(len(A[i])): \n",
    "                       if A[i][j] > 0: \n",
    "                           adjList[i][j] = A[i][j]\n",
    "    return adjList"
   ]
  },
  {
   "cell_type": "code",
   "execution_count": 173,
   "metadata": {},
   "outputs": [],
   "source": [
    "#define Primm algorithm\n",
    "\n",
    "from collections import defaultdict\n",
    "import heapq\n",
    "\n",
    "\n",
    "def primm(graph, starting_vertex):\n",
    "    mst = defaultdict(set)\n",
    "    visited = set([starting_vertex])\n",
    "    edges = [\n",
    "        (cost, starting_vertex, to)\n",
    "        for to, cost in graph[starting_vertex].items()\n",
    "    ]\n",
    "    heapq.heapify(edges)\n",
    "\n",
    "    while edges:\n",
    "        cost, frm, to = heapq.heappop(edges)\n",
    "        if to not in visited:\n",
    "            visited.add(to)\n",
    "            mst[frm].add(to)\n",
    "            for to_next, cost in graph[to].items():\n",
    "                if to_next not in visited:\n",
    "                    heapq.heappush(edges, (cost, to, to_next))\n",
    "\n",
    "    return mst"
   ]
  },
  {
   "cell_type": "code",
   "execution_count": 174,
   "metadata": {},
   "outputs": [],
   "source": [
    "#create example matrix for Primm\n",
    "m = random_adjacency_matrix(10,45)"
   ]
  },
  {
   "cell_type": "code",
   "execution_count": 175,
   "metadata": {},
   "outputs": [
    {
     "data": {
      "text/plain": [
       "array([[0., 1., 1., 8., 1., 6., 2., 8., 4., 3.],\n",
       "       [1., 0., 3., 3., 1., 1., 5., 2., 9., 9.],\n",
       "       [1., 3., 0., 9., 8., 5., 2., 9., 3., 2.],\n",
       "       [8., 3., 9., 0., 2., 9., 6., 2., 2., 9.],\n",
       "       [1., 1., 8., 2., 0., 1., 4., 6., 2., 7.],\n",
       "       [6., 1., 5., 9., 1., 0., 6., 7., 7., 1.],\n",
       "       [2., 5., 2., 6., 4., 6., 0., 2., 2., 4.],\n",
       "       [8., 2., 9., 2., 6., 7., 2., 0., 5., 9.],\n",
       "       [4., 9., 3., 2., 2., 7., 2., 5., 0., 7.],\n",
       "       [3., 9., 2., 9., 7., 1., 4., 9., 7., 0.]])"
      ]
     },
     "execution_count": 175,
     "metadata": {},
     "output_type": "execute_result"
    }
   ],
   "source": [
    "m"
   ]
  },
  {
   "cell_type": "code",
   "execution_count": 176,
   "metadata": {},
   "outputs": [],
   "source": [
    "g = convert_w(m)"
   ]
  },
  {
   "cell_type": "code",
   "execution_count": 177,
   "metadata": {},
   "outputs": [
    {
     "data": {
      "text/plain": [
       "{0: {1: 1.0, 2: 1.0, 3: 8.0, 4: 1.0, 5: 6.0, 6: 2.0, 7: 8.0, 8: 4.0, 9: 3.0},\n",
       " 1: {0: 1.0, 2: 3.0, 3: 3.0, 4: 1.0, 5: 1.0, 6: 5.0, 7: 2.0, 8: 9.0, 9: 9.0},\n",
       " 2: {0: 1.0, 1: 3.0, 3: 9.0, 4: 8.0, 5: 5.0, 6: 2.0, 7: 9.0, 8: 3.0, 9: 2.0},\n",
       " 3: {0: 8.0, 1: 3.0, 2: 9.0, 4: 2.0, 5: 9.0, 6: 6.0, 7: 2.0, 8: 2.0, 9: 9.0},\n",
       " 4: {0: 1.0, 1: 1.0, 2: 8.0, 3: 2.0, 5: 1.0, 6: 4.0, 7: 6.0, 8: 2.0, 9: 7.0},\n",
       " 5: {0: 6.0, 1: 1.0, 2: 5.0, 3: 9.0, 4: 1.0, 6: 6.0, 7: 7.0, 8: 7.0, 9: 1.0},\n",
       " 6: {0: 2.0, 1: 5.0, 2: 2.0, 3: 6.0, 4: 4.0, 5: 6.0, 7: 2.0, 8: 2.0, 9: 4.0},\n",
       " 7: {0: 8.0, 1: 2.0, 2: 9.0, 3: 2.0, 4: 6.0, 5: 7.0, 6: 2.0, 8: 5.0, 9: 9.0},\n",
       " 8: {0: 4.0, 1: 9.0, 2: 3.0, 3: 2.0, 4: 2.0, 5: 7.0, 6: 2.0, 7: 5.0, 9: 7.0},\n",
       " 9: {0: 3.0, 1: 9.0, 2: 2.0, 3: 9.0, 4: 7.0, 5: 1.0, 6: 4.0, 7: 9.0, 8: 7.0}}"
      ]
     },
     "execution_count": 177,
     "metadata": {},
     "output_type": "execute_result"
    }
   ],
   "source": [
    "g"
   ]
  },
  {
   "cell_type": "code",
   "execution_count": 178,
   "metadata": {},
   "outputs": [],
   "source": [
    "tree = primm(g, 0)"
   ]
  },
  {
   "cell_type": "code",
   "execution_count": 180,
   "metadata": {},
   "outputs": [
    {
     "data": {
      "text/plain": [
       "defaultdict(set, {0: {1, 2, 4, 6}, 1: {5, 7}, 5: {9}, 4: {3}, 3: {8}})"
      ]
     },
     "execution_count": 180,
     "metadata": {},
     "output_type": "execute_result"
    }
   ],
   "source": [
    "#This tree is a dictionary representation of minimum spanning tree\n",
    "\n",
    "tree"
   ]
  },
  {
   "cell_type": "code",
   "execution_count": null,
   "metadata": {},
   "outputs": [],
   "source": []
  },
  {
   "cell_type": "markdown",
   "metadata": {},
   "source": [
    "<h1>Part 2. TSP problem with minimum spanning tree</h1>"
   ]
  },
  {
   "cell_type": "code",
   "execution_count": 181,
   "metadata": {},
   "outputs": [],
   "source": [
    "#Create in-order tree traversal for printing the path\n",
    "def pre_order(tree, start, vertices):\n",
    "    path = []\n",
    "    visited = set()\n",
    "    to_visit = []\n",
    "    to_visit.append(start)\n",
    "    while len(visited) < vertices:\n",
    "        current = to_visit.pop()\n",
    "        if current not in visited:\n",
    "            visited.add(current)\n",
    "            path.append(current)\n",
    "            if tree.get(current) is not None:\n",
    "                to_visit.extend(list(tree[current]))\n",
    "    return path\n",
    "            \n",
    "    \n",
    "    "
   ]
  },
  {
   "cell_type": "code",
   "execution_count": 187,
   "metadata": {},
   "outputs": [
    {
     "name": "stdout",
     "output_type": "stream",
     "text": [
      "[0, 6, 4, 3, 8, 2, 1, 7, 5, 9]\n",
      "[0, 6, 4, 3, 8, 2, 1, 7, 5, 9, 0]\n"
     ]
    }
   ],
   "source": [
    "#Create path from the starting point, then create cycle out of path\n",
    "path = pre_order(tree,0,10)\n",
    "print(path)\n",
    "path.append(path[0])\n",
    "cycle = path\n",
    "print(cycle)"
   ]
  },
  {
   "cell_type": "code",
   "execution_count": 188,
   "metadata": {},
   "outputs": [
    {
     "name": "stdout",
     "output_type": "stream",
     "text": [
      "29.0\n"
     ]
    }
   ],
   "source": [
    "#Finally, count the weight of the cycle\n",
    "\n",
    "weight = 0\n",
    "for i in range(len(cycle)-1):    \n",
    "    weight += g[cycle[i]][cycle[i+1]]\n",
    "print(weight)\n",
    "    "
   ]
  },
  {
   "cell_type": "code",
   "execution_count": 265,
   "metadata": {},
   "outputs": [
    {
     "name": "stderr",
     "output_type": "stream",
     "text": [
      "100%|██████████| 198/198 [04:36<00:00,  1.40s/it]\n"
     ]
    }
   ],
   "source": [
    "graphs = []\n",
    "for n in tqdm(range(2,200)):\n",
    "    edges = int((n*(n-1))/2)\n",
    "    m = random_adjacency_matrix(n,edges)\n",
    "    graphs.append(convert_w(m))"
   ]
  },
  {
   "cell_type": "code",
   "execution_count": 266,
   "metadata": {},
   "outputs": [
    {
     "name": "stderr",
     "output_type": "stream",
     "text": [
      "100%|██████████| 198/198 [00:14<00:00, 13.82it/s]\n"
     ]
    }
   ],
   "source": [
    "#Experiment with the algorithm perfomance dependin on the size of the graph\n",
    "#Will generate full graph on vertices in [1,200] and measure algorithm time.\n",
    "\n",
    "\n",
    "averages = []\n",
    "\n",
    "for g in tqdm(graphs):\n",
    "    #edges = int((n*(n-1))/2)\n",
    "    #m = random_adjacency_matrix(n,edges)\n",
    "    #g = convert_w(m)\n",
    "    #g = graphs[n]\n",
    "    times = []\n",
    "    for i in range(5):\n",
    "        start = time.perf_counter()\n",
    "        tree = primm(g, 0)\n",
    "        path = pre_order(tree,0,(len(g)))\n",
    "        path.append(path[0])\n",
    "        cycle = path\n",
    "        weight = 0\n",
    "        for i in range(len(cycle)-1):    \n",
    "            weight += g[cycle[i]][cycle[i+1]]\n",
    "        finish = time.perf_counter() - start\n",
    "        times.append(finish)\n",
    "    averages.append((sum(times)-max(times))/4)\n",
    "        \n",
    "        "
   ]
  },
  {
   "cell_type": "code",
   "execution_count": 283,
   "metadata": {},
   "outputs": [],
   "source": [
    "#define function for theoretical estimation of Algorithm complexity\n",
    "#Should be O(V*log(V))\n",
    "def estimator(v,a,b,c,d):\n",
    "    e = (v*(v-1))/2\n",
    "    return a + (b*v)*(c*np.log(v)) + d*e*np.log(v)"
   ]
  },
  {
   "cell_type": "code",
   "execution_count": 287,
   "metadata": {},
   "outputs": [
    {
     "data": {
      "text/plain": [
       "<matplotlib.legend.Legend at 0x7fcca8448a90>"
      ]
     },
     "execution_count": 287,
     "metadata": {},
     "output_type": "execute_result"
    },
    {
     "data": {
      "image/png": "[encoded data removed]",
      "text/plain": [
       "<Figure size 432x288 with 1 Axes>"
      ]
     },
     "metadata": {
      "needs_background": "light"
     },
     "output_type": "display_data"
    }
   ],
   "source": [
    "plt.scatter(range(len(averages)),averages)\n",
    "x = list(range(2,200))\n",
    "coeffs = curve_fit(estimator,x,averages)[0]\n",
    "theoretical = np.array([estimator(el, *coeffs) for el in x])\n",
    "plt.plot(x,theoretical, \"-\", label = \"Theoretical approx (O(V*log(V)+E(log(V))))\", color=\"red\")\n",
    "plt.xlabel(\"Vertices in full Graph (n)\")\n",
    "plt.ylabel(\"Running time\")\n",
    "plt.title(\"Empirical running time of solving the TSP with MST\")\n",
    "plt.legend()\n"
   ]
  },
  {
   "cell_type": "code",
   "execution_count": null,
   "metadata": {},
   "outputs": [],
   "source": []
  }
 ],
 "metadata": {
  "kernelspec": {
   "display_name": "Python 3",
   "language": "python",
   "name": "python3"
  },
  "language_info": {
   "codemirror_mode": {
    "name": "ipython",
    "version": 3
   },
   "file_extension": ".py",
   "mimetype": "text/x-python",
   "name": "python",
   "nbconvert_exporter": "python",
   "pygments_lexer": "ipython3",
   "version": "3.7.6"
  }
 },
 "nbformat": 4,
 "nbformat_minor": 4
}
